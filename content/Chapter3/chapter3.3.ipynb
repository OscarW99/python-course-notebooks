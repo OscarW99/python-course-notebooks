{
    "cells": [
        {
            "cell_type": "markdown",
            "metadata": {},
            "source": [
                "<div style=\"width:100%; background-color:#226c61; color:white; padding:10px; text-align:center; font-size:20px;\">\n",
                "    <strong>Chapter 3: Data Structures</strong>\n",
                "</div>\n"
            ]
        },
        {
            "cell_type": "markdown",
            "metadata": {},
            "source": [
                "<div style=\"text-align:center; font-size:28px; font-weight:bold;\">\n",
                "    List Slicing\n",
                "</div>"
            ]
        },
        {
            "cell_type": "markdown",
            "metadata": {},
            "source": [
                "### 1. Extracting a Subsequence\n",
                "\n",
                "Given the list **`dna_sequence = ['A', 'T', 'G', 'C', 'A', 'T', 'G', 'C', 'A', 'T']`**, write a Python statement to print a subsequence from the third to the eighth nucleotide."
            ]
        },
        {
            "cell_type": "code",
            "execution_count": null,
            "metadata": {},
            "outputs": [],
            "source": [
                "dna_sequence = ['A', 'T', 'G', 'C', 'A', 'T', 'G', 'C', 'A', 'T']\n",
                "\n",
                "# Write your Python statement here\n"
            ]
        },
        {
            "cell_type": "markdown",
            "metadata": {},
            "source": [
                "### 2. Reversing a Sequence\n",
                "\n",
                "Consider the list **`amino_acids = ['Alanine', 'Cysteine', 'Glycine', 'Isoleucine']`**. Write a Python statement to print this list in reverse order."
            ]
        },
        {
            "cell_type": "code",
            "execution_count": null,
            "metadata": {},
            "outputs": [],
            "source": [
                "amino_acids = ['Alanine', 'Cysteine', 'Glycine', 'Isoleucine']\n",
                "\n",
                "# Write your Python statement here\n"
            ]
        },
        {
            "cell_type": "markdown",
            "metadata": {},
            "source": [
                "### 3. Extracting Odd Indexed Elements\n",
                "\n",
                "Using a new list **`numbers = [1, 2, 3, 4, 5, 6, 7, 8, 9]`**, write a Python statement to print elements at odd indexes in the list."
            ]
        },
        {
            "cell_type": "code",
            "execution_count": null,
            "metadata": {},
            "outputs": [],
            "source": [
                "numbers = [1, 2, 3, 4, 5, 6, 7, 8, 9]\n",
                "\n",
                "# Write your Python statement here\n"
            ]
        },
        {
            "cell_type": "markdown",
            "metadata": {},
            "source": [
                "### 4. Slicing in Nested Lists\n",
                "\n",
                "With the nested list **`patient_records = [['ID1', 23, 'A+'], ['ID2', 35, 'B-'], ['ID3', 42, 'O+']]`**, write a Python statement to print the ID and age of all patients."
            ]
        },
        {
            "cell_type": "code",
            "execution_count": null,
            "metadata": {},
            "outputs": [],
            "source": [
                "patient_records = [['ID1', 23, 'A+'], ['ID2', 35, 'B-'], ['ID3', 42, 'O+']]\n",
                "\n",
                "# Write your Python statement here\n"
            ]
        }
    ],
    "metadata": {
        "kernelspec": {
            "display_name": "base",
            "language": "python",
            "name": "python3"
        },
        "language_info": {
            "codemirror_mode": {
                "name": "ipython",
                "version": 3
            },
            "file_extension": ".py",
            "mimetype": "text/x-python",
            "name": "python",
            "nbconvert_exporter": "python",
            "pygments_lexer": "ipython3",
            "version": "3.11.5"
        }
    },
    "nbformat": 4,
    "nbformat_minor": 5
}
