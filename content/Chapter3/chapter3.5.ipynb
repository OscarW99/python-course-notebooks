{
    "cells": [
        {
            "cell_type": "markdown",
            "metadata": {},
            "source": [
                "<div style=\"width:100%; background-color:#226c61; color:white; padding:10px; text-align:center; font-size:20px;\">\n",
                "    <strong>Chapter 3: Data Structures</strong>\n",
                "</div>\n"
            ]
        },
        {
            "cell_type": "markdown",
            "metadata": {},
            "source": [
                "<div style=\"text-align:center; font-size:28px; font-weight:bold;\">\n",
                "    Unpacking with Lists\n",
                "</div>"
            ]
        },
        {
            "cell_type": "markdown",
            "metadata": {},
            "source": [
                "### 1. Simple Unpacking\n",
                "\n",
                "Given the list **`amino_acids = ['Alanine', 'Cysteine', 'Glycine']`**, unpack the list into three separate variables named **`ala`**, **`cys`**, and **`gly`**."
            ]
        },
        {
            "cell_type": "code",
            "execution_count": null,
            "metadata": {},
            "outputs": [],
            "source": [
                "amino_acids = ['Alanine', 'Cysteine', 'Glycine']\n",
                "\n",
                "# Write your Python statement here\n"
            ]
        },
        {
            "cell_type": "markdown",
            "metadata": {},
            "source": [
                "### 2. Nested List Unpacking\n",
                "\n",
                "Consider a nested list **`gene_info = [['Gene1', 150], ['Gene2', 200], ['Gene3', 250]]`**. Write a loop that unpacks each sublist and prints the gene name and its expression value separately."
            ]
        },
        {
            "cell_type": "code",
            "execution_count": null,
            "metadata": {},
            "outputs": [],
            "source": [
                "gene_info = [['Gene1', 150], ['Gene2', 200], ['Gene3', 250]]\n",
                "\n",
                "# Write your Python statement here\n"
            ]
        },
        {
            "cell_type": "markdown",
            "metadata": {},
            "source": [
                "### 3. Unpacking with Star Expressions\n",
                "\n",
                "Given a list **`gene_details = ['GeneX', 'Regulatory', 'Human', 120, 'Chromosome 1']`**, use a star expression to unpack the list into variables **`gene`**, **`gene_type`**, and a list called **`details`**."
            ]
        },
        {
            "cell_type": "code",
            "execution_count": null,
            "metadata": {},
            "outputs": [],
            "source": [
                "gene_details = ['GeneX', 'Regulatory', 'Human', 120, 'Chromosome 1']\n",
                "\n",
                "# Write your Python statement here\n"
            ]
        },
        {
            "cell_type": "markdown",
            "metadata": {},
            "source": [
                "### 4. Unpacking a String\n",
                "\n",
                "Given a string **`dna_sequence = \"AGTC\"`**, unpack it into four separate variables **`a`**, **`t`**, **`c`**, **`g`**, representing each nucleotide."
            ]
        },
        {
            "cell_type": "code",
            "execution_count": null,
            "metadata": {},
            "outputs": [],
            "source": [
                "dna_sequence = \"AGTC\"\n",
                "\n",
                "# Write your Python statement here\n"
            ]
        }
    ],
    "metadata": {
        "kernelspec": {
            "display_name": "base",
            "language": "python",
            "name": "python3"
        },
        "language_info": {
            "codemirror_mode": {
                "name": "ipython",
                "version": 3
            },
            "file_extension": ".py",
            "mimetype": "text/x-python",
            "name": "python",
            "nbconvert_exporter": "python",
            "pygments_lexer": "ipython3",
            "version": "3.11.5"
        }
    },
    "nbformat": 4,
    "nbformat_minor": 5
}
