{
    "cells": [
        {
            "cell_type": "markdown",
            "metadata": {},
            "source": [
                "<div style=\"width:100%; background-color:#226c61; color:white; padding:10px; text-align:center; font-size:20px;\">\n",
                "    <strong>Chapter 3: Data Structures</strong>\n",
                "</div>\n"
            ]
        },
        {
            "cell_type": "markdown",
            "metadata": {},
            "source": [
                "<div style=\"text-align:center; font-size:28px; font-weight:bold;\">\n",
                "    Mutability of Lists\n",
                "</div>"
            ]
        },
        {
            "cell_type": "markdown",
            "metadata": {},
            "source": [
                "### 1. Updating a Single Element\n",
                "\n",
                "Given the list **`bases = ['A', 'T', 'C', 'G']`**, change the second element to 'U' and print the updated list."
            ]
        },
        {
            "cell_type": "code",
            "execution_count": null,
            "metadata": {},
            "outputs": [],
            "source": [
                "bases = ['A', 'T', 'C', 'G']\n",
                "\n",
                "# Write your Python statement here\n"
            ]
        },
        {
            "cell_type": "markdown",
            "metadata": {},
            "source": [
                "### 2. Inserting Elements in a DNA Sequence\n",
                "\n",
                "Consider the DNA sequence represented as a list **`dna_sequence = ['A', 'T', 'G', 'C', 'A', 'T', 'G', 'C']`**. Insert 'A' and 'T' after the fourth nucleotide and print the updated list."
            ]
        },
        {
            "cell_type": "code",
            "execution_count": null,
            "metadata": {},
            "outputs": [],
            "source": [
                "dna_sequence = ['A', 'T', 'G', 'C', 'A', 'T', 'G', 'C']\n",
                "\n",
                "# Write your Python statement here\n"
            ]
        },
        {
            "cell_type": "markdown",
            "metadata": {},
            "source": [
                "### 3. Replacing a Slice with a Longer Sequence\n",
                "\n",
                "With the list **`dna_sequence = ['A', 'T', 'G', 'C', 'A', 'T', 'G', 'C']`**, replace the slice from the third to the fifth nucleotide with **`['C', 'G', 'T', 'A', 'C']`** and print the updated list."
            ]
        },
        {
            "cell_type": "code",
            "execution_count": null,
            "metadata": {},
            "outputs": [],
            "source": [
                "dna_sequence = ['A', 'T', 'G', 'C', 'A', 'T', 'G', 'C']\n",
                "\n",
                "# Write your Python statement here\n"
            ]
        },
        {
            "cell_type": "markdown",
            "metadata": {},
            "source": [
                "### 4. Deleting a Slice of Elements\n",
                "\n",
                "In the list **`dna_sequence = ['A', 'T', 'G', 'C', 'A', 'T', 'G', 'C']`**, remove the nucleotides from the second to the fourth position and print the updated list."
            ]
        },
        {
            "cell_type": "code",
            "execution_count": null,
            "metadata": {},
            "outputs": [],
            "source": [
                "dna_sequence = ['A', 'T', 'G', 'C', 'A', 'T', 'G', 'C']\n",
                "\n",
                "# Write your Python statement here\n"
            ]
        }
    ],
    "metadata": {
        "kernelspec": {
            "display_name": "base",
            "language": "python",
            "name": "python3"
        },
        "language_info": {
            "codemirror_mode": {
                "name": "ipython",
                "version": 3
            },
            "file_extension": ".py",
            "mimetype": "text/x-python",
            "name": "python",
            "nbconvert_exporter": "python",
            "pygments_lexer": "ipython3",
            "version": "3.11.5"
        }
    },
    "nbformat": 4,
    "nbformat_minor": 5
}
