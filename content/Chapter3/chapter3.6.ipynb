{
    "cells": [
        {
            "cell_type": "markdown",
            "metadata": {},
            "source": [
                "<div style=\"width:100%; background-color:#226c61; color:white; padding:10px; text-align:center; font-size:20px;\">\n",
                "    <strong>Chapter 3: Data Structures</strong>\n",
                "</div>\n"
            ]
        },
        {
            "cell_type": "markdown",
            "metadata": {},
            "source": [
                "<div style=\"text-align:center; font-size:28px; font-weight:bold;\">\n",
                "    List Methods\n",
                "</div>"
            ]
        },
        {
            "cell_type": "markdown",
            "metadata": {},
            "source": [
                "### 1. Appending to a List\n",
                "\n",
                "Given the list **`enzymes = ['EcoRI', 'HindIII', 'BamHI']`**, write a Python statement to append the enzyme 'SmaI' to the list."
            ]
        },
        {
            "cell_type": "code",
            "execution_count": null,
            "metadata": {},
            "outputs": [],
            "source": [
                "enzymes = ['EcoRI', 'HindIII', 'BamHI']\n",
                "\n",
                "# Write your Python statement here\n"
            ]
        },
        {
            "cell_type": "markdown",
            "metadata": {},
            "source": [
                "### 2. Extending a List\n",
                "\n",
                "Consider the list **`nucleotides = ['A', 'T', 'C']`**. Extend this list by adding the nucleotides 'G', 'U', and 'A' from another list **`additional_nucleotides`**."
            ]
        },
        {
            "cell_type": "code",
            "execution_count": null,
            "metadata": {},
            "outputs": [],
            "source": [
                "nucleotides = ['A', 'T', 'C']\n",
                "additional_nucleotides = ['G', 'U', 'A']\n",
                "\n",
                "# Write your Python statement here\n"
            ]
        },
        {
            "cell_type": "markdown",
            "metadata": {},
            "source": [
                "### 3. Inserting into a List\n",
                "\n",
                "Using the list **`amino_acids = ['Alanine', 'Cysteine', 'Glycine']`**, write a Python statement to insert 'Isoleucine' at the second position."
            ]
        },
        {
            "cell_type": "code",
            "execution_count": null,
            "metadata": {},
            "outputs": [],
            "source": [
                "amino_acids = ['Alanine', 'Cysteine', 'Glycine']\n",
                "\n",
                "# Write your Python statement here\n"
            ]
        },
        {
            "cell_type": "markdown",
            "metadata": {},
            "source": [
                "### 4. Removing from a List\n",
                "\n",
                "With the list **`genes = ['GeneA', 'GeneB', 'GeneC', 'GeneD']`**, write a Python statement to remove 'GeneC' from the list."
            ]
        },
        {
            "cell_type": "code",
            "execution_count": null,
            "metadata": {},
            "outputs": [],
            "source": [
                "genes = ['GeneA', 'GeneB', 'GeneC', 'GeneD']\n",
                "\n",
                "# Write your Python statement here\n"
            ]
        },
        {
            "cell_type": "markdown",
            "metadata": {},
            "source": [
                "### 5. Popping from a List\n",
                "\n",
                "Consider the list **`experimental_results = [32, 45, 22, 38, 55]`**. Write a Python statement to pop and print the result at the third position."
            ]
        },
        {
            "cell_type": "code",
            "execution_count": null,
            "metadata": {},
            "outputs": [],
            "source": [
                "experimental_results = [32, 45, 22, 38, 55]\n",
                "\n",
                "# Write your Python statement here\n"
            ]
        },
        {
            "cell_type": "markdown",
            "metadata": {},
            "source": [
                "### 6. Using `del` with Lists\n",
                "\n",
                "Given a list **`dna_sequence = ['A', 'T', 'G', 'C', 'A', 'T', 'G', 'C', 'A', 'T']`**, remove a slice from index 3 to 6 using **`del`**."
            ]
        },
        {
            "cell_type": "code",
            "execution_count": null,
            "metadata": {},
            "outputs": [],
            "source": [
                "dna_sequence = ['A', 'T', 'G', 'C', 'A', 'T', 'G', 'C', 'A', 'T']\n",
                "\n",
                "# Write your Python statement here\n"
            ]
        },
        {
            "cell_type": "markdown",
            "metadata": {},
            "source": [
                "### 7. Clearing a List\n",
                "\n",
                "For a list **`dna_sequences = ['ATG', 'CGT', 'TAC', 'GCA']`**, write a Python statement to clear the list."
            ]
        },
        {
            "cell_type": "code",
            "execution_count": null,
            "metadata": {},
            "outputs": [],
            "source": [
                "dna_sequences = ['ATG', 'CGT', 'TAC', 'GCA']\n",
                "\n",
                "# Write your Python statement here\n"
            ]
        },
        {
            "cell_type": "markdown",
            "metadata": {},
            "source": [
                "### 8. Finding Index in a List\n",
                "\n",
                "With the list **`patient_ids = ['P100', 'P101', 'P102', 'P103']`**, find the index of 'P102'."
            ]
        },
        {
            "cell_type": "code",
            "execution_count": null,
            "metadata": {},
            "outputs": [],
            "source": [
                "patient_ids = ['P100', 'P101', 'P102', 'P103']\n",
                "\n",
                "# Write your Python statement here\n"
            ]
        },
        {
            "cell_type": "markdown",
            "metadata": {},
            "source": [
                "### 9. Counting Occurrences in a List\n",
                "\n",
                "Given the list **`protein_sequence = ['Ala', 'Gly', 'Ala', 'Ser', 'Val', 'Ala', 'Ser']`**, count how many times 'Ala' appears."
            ]
        },
        {
            "cell_type": "code",
            "execution_count": null,
            "metadata": {},
            "outputs": [],
            "source": [
                "protein_sequence = ['Ala', 'Gly', 'Ala', 'Ser', 'Val', 'Ala', 'Ser']\n",
                "\n",
                "# Write your Python statement here\n"
            ]
        },
        {
            "cell_type": "markdown",
            "metadata": {},
            "source": [
                "### 10. Sorting a List\n",
                "\n",
                "Use the **`sort()`** method to sort the list **`amino_acid_frequencies = [120, 200, 80, 150, 90]`** in descending order."
            ]
        },
        {
            "cell_type": "code",
            "execution_count": null,
            "metadata": {},
            "outputs": [],
            "source": [
                "amino_acid_frequencies = [120, 200, 80, 150, 90]\n",
                "\n",
                "# Write your Python statement here\n"
            ]
        },
        {
            "cell_type": "markdown",
            "metadata": {},
            "source": [
                "### 11. Reversing a List\n",
                "\n",
                "Reverse the order of the list **`dna_sequence = ['A', 'T', 'G', 'C', 'A', 'T']`** using the **`reverse()`** method."
            ]
        },
        {
            "cell_type": "code",
            "execution_count": null,
            "metadata": {},
            "outputs": [],
            "source": [
                "dna_sequence = ['A', 'T', 'G', 'C', 'A', 'T']\n",
                "\n",
                "# Write your Python statement here\n"
            ]
        },
        {
            "cell_type": "markdown",
            "metadata": {},
            "source": [
                "### 12. Copying a List\n",
                "\n",
                "Create a shallow copy of the list **`dna_sequence = ['A', 'T', 'G', 'C', 'A', 'T']`** using the **`copy()`** method."
            ]
        },
        {
            "cell_type": "code",
            "execution_count": null,
            "metadata": {},
            "outputs": [],
            "source": [
                "dna_sequence = ['A', 'T', 'G', 'C', 'A', 'T']\n",
                "\n",
                "# Write your Python statement here\n"
            ]
        }
    ],
    "metadata": {
        "kernelspec": {
            "display_name": "Python 3",
            "language": "python",
            "name": "python3"
        },
        "language_info": {
            "codemirror_mode": {
                "name": "ipython",
                "version": 3
            },
            "file_extension": ".py",
            "mimetype": "text/x-python",
            "name": "python",
            "nbconvert_exporter": "python",
            "version": "3.8.10"
        }
    },
    "nbformat": 4,
    "nbformat_minor": 4
}
