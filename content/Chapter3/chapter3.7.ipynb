{
    "cells": [
        {
            "cell_type": "markdown",
            "id": "8f408669",
            "metadata": {},
            "source": [
                "<div style=\"width:100%; background-color:#226c61; color:white; padding:10px; text-align:center; font-size:20px;\">\n",
                "    <strong>Chapter 3: Data Structures</strong>\n",
                "</div>\n"
            ]
        },
        {
            "cell_type": "markdown",
            "id": "e11df89e",
            "metadata": {},
            "source": [
                "<div style=\"text-align:center; font-size:28px; font-weight:bold;\">\n",
                "    List Comprehensions\n",
                "</div>"
            ]
        },
        {
            "cell_type": "markdown",
            "id": "38485d4c",
            "metadata": {},
            "source": [
                "### 1. Creating a New List of Squares\n",
                "\n",
                "Given the list **`numbers = [1, 2, 3, 4, 5]`**, use a list comprehension to create a list of the squares of these numbers."
            ]
        },
        {
            "cell_type": "code",
            "execution_count": null,
            "id": "a137907d",
            "metadata": {},
            "outputs": [],
            "source": [
                "numbers = [1, 2, 3, 4, 5]\n",
                "\n",
                "# Write your list comprehension here\n"
            ]
        },
        {
            "cell_type": "markdown",
            "id": "bc079731",
            "metadata": {},
            "source": [
                "### 2. Filtering Even Numbers\n",
                "\n",
                "From the list **`numbers = [1, 2, 3, 4, 5, 6, 7, 8, 9, 10]`**, create a new list containing only the even numbers using a list comprehension."
            ]
        },
        {
            "cell_type": "code",
            "execution_count": null,
            "id": "179b2351",
            "metadata": {},
            "outputs": [],
            "source": [
                "numbers = [1, 2, 3, 4, 5, 6, 7, 8, 9, 10]\n",
                "\n",
                "# Write your list comprehension here\n"
            ]
        },
        {
            "cell_type": "markdown",
            "metadata": {},
            "source": [
                "### 3. Finding Sequences with Specific End Nucleotides\n",
                "\n",
                "Given **`dna_sequences = ['ATCG', 'GCTA', 'CGTA', 'ATC', 'TAT', 'ATGGCT']`**, use a list comprehension to create a new list with only those sequences that end in 'A'."
            ]
        },
        {
            "cell_type": "code",
            "execution_count": null,
            "metadata": {},
            "outputs": [],
            "source": [
                "dna_sequences = ['ATCG', 'GCTA', 'CGTA', 'ATC', 'TAT', 'ATGGCT']\n",
                "\n",
                "# Write your list comprehension here\n"
            ]
        },
        {
            "cell_type": "markdown",
            "metadata": {},
            "source": [
                "### 4. Concatenating Strings in a List\n",
                "\n",
                "With the list **`genes = ['Gene1', 'Gene2', 'Gene3']`**, create a new list where each element is prefixed with 'ID-' using a list comprehension."
            ]
        },
        {
            "cell_type": "code",
            "execution_count": null,
            "metadata": {},
            "outputs": [],
            "source": [
                "genes = ['Gene1', 'Gene2', 'Gene3']\n",
                "\n",
                "# Write your list comprehension here\n"
            ]
        }
    ],
    "metadata": {
        "kernelspec": {
            "display_name": "base",
            "language": "python",
            "name": "python3"
        },
        "language_info": {
            "codemirror_mode": {
                "name": "ipython",
                "version": 3
            },
            "file_extension": ".py",
            "mimetype": "text/x-python",
            "name": "python",
            "nbconvert_exporter": "python",
            "pygments_lexer": "ipython3",
            "version": "3.11.5"
        }
    },
    "nbformat": 4,
    "nbformat_minor": 5
}
