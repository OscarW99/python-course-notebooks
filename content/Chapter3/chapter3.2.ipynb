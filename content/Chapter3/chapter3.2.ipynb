{
    "cells": [
        {
            "cell_type": "markdown",
            "metadata": {},
            "source": [
                "<div style=\"width:100%; background-color:#226c61; color:white; padding:10px; text-align:center; font-size:20px;\">\n",
                "    <strong>Chapter 3: Data Structures</strong>\n",
                "</div>\n"
            ]
        },
        {
            "cell_type": "markdown",
            "metadata": {},
            "source": [
                "<div style=\"text-align:center; font-size:28px; font-weight:bold;\">\n",
                "    Indexing Lists\n",
                "</div>"
            ]
        },
        {
            "cell_type": "markdown",
            "metadata": {},
            "source": [
                "### 1. Accessing a Nucleotide\n",
                "\n",
                "Given the list **`bases = ['A', 'T', 'C', 'G']`**, write a Python statement to print the nucleotide at the second position in the list."
            ]
        },
        {
            "cell_type": "code",
            "execution_count": null,
            "metadata": {},
            "outputs": [],
            "source": [
                "# 1. Accessing a Nucleotide\n",
                "bases = ['A', 'T', 'C', 'G']\n",
                "\n",
                "# Write your Python statement here\n"
            ]
        },
        {
            "cell_type": "markdown",
            "metadata": {},
            "source": [
                "### 2. Finding Function of a Gene\n",
                "\n",
                "Consider the list **`research_genes = [['GeneM', 200, 'Metabolic'], ['GeneN', 300, 'Developmental'], ['GeneO', 400, 'Signal']]`**. Write a Python statement to print the function of 'GeneO'."
            ]
        },
        {
            "cell_type": "code",
            "execution_count": null,
            "metadata": {},
            "outputs": [],
            "source": [
                "research_genes = [['GeneM', 200, 'Metabolic'], ['GeneN', 300, 'Developmental'], ['GeneO', 400, 'Signal']]\n",
                "\n",
                "# Write your Python statement here\n"
            ]
        },
        {
            "cell_type": "markdown",
            "metadata": {},
            "source": [
                "### 3. Accessing Nested List Elements\n",
                "\n",
                "Using a new list **`patient_data = [['Patient1', 37, 'A+'], ['Patient2', 45, 'B-']]`**, write a Python statement to print the age of 'Patient1'."
            ]
        },
        {
            "cell_type": "code",
            "execution_count": null,
            "metadata": {},
            "outputs": [],
            "source": [
                "patient_data = [['Patient1', 37, 'A+'], ['Patient2', 45, 'B-']]\n",
                "\n",
                "# Write your Python statement here\n"
            ]
        },
        {
            "cell_type": "markdown",
            "metadata": {},
            "source": [
                "### 4. Negative Indexing\n",
                "\n",
                "With the list **`bases = ['A', 'T', 'C', 'G']`**, write a Python statement to print the nucleotide at the last position using negative indexing."
            ]
        },
        {
            "cell_type": "code",
            "execution_count": null,
            "metadata": {},
            "outputs": [],
            "source": [
                "bases = ['A', 'T', 'C', 'G']\n",
                "\n",
                "# Write your Python statement here\n"
            ]
        }
    ],
    "metadata": {
        "kernelspec": {
            "display_name": "base",
            "language": "python",
            "name": "python3"
        },
        "language_info": {
            "codemirror_mode": {
                "name": "ipython",
                "version": 3
            },
            "file_extension": ".py",
            "mimetype": "text/x-python",
            "name": "python",
            "nbconvert_exporter": "python",
            "pygments_lexer": "ipython3",
            "version": "3.11.5"
        }
    },
    "nbformat": 4,
    "nbformat_minor": 5
}
