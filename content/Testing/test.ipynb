{
 "cells": [
  {
   "cell_type": "markdown",
   "metadata": {},
   "source": [
    "# Python Basics - Assignment 1\n",
    "\n",
    "## Question 1\n",
    "Write a Python function that returns the sum of two numbers.\n",
    "\n",
    "Example:\n",
    "```python\n",
    "sum_two_numbers(3, 5)  # Should return 8\n",
    "```"
   ]
  },
  {
   "cell_type": "code",
   "execution_count": null,
   "metadata": {},
   "outputs": [],
   "source": [
    "# Your code here\n",
    "def sum_two_numbers(a, b):\n",
    "    pass  # replace with your code\n",
    "    "
   ]
  }
 ],
 "metadata": {
  "language_info": {
   "name": "python"
  }
 },
 "nbformat": 4,
 "nbformat_minor": 2
}
