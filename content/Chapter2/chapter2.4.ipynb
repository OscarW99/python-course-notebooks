{
    "cells": [
        {
            "cell_type": "markdown",
            "metadata": {},
            "source": [
                "<div style=\"width:100%; background-color:#226c61; color:white; padding:10px; text-align:center; font-size:20px;\">\n",
                "    <strong>Chapter 2: Conditional Statements and Loops</strong>\n",
                "</div>\n"
            ]
        },
        {
            "cell_type": "markdown",
            "metadata": {},
            "source": [
                "<div style=\"text-align:center; font-size:28px; font-weight:bold;\">\n",
                "    Loops in Python\n",
                "</div>"
            ]
        },
        {
            "cell_type": "markdown",
            "metadata": {},
            "source": [
                "### 1. Printing each enzyme name\n",
                "\n",
                "Given a list **`enzymes = ['EcoRI', 'HindIII', 'BamHI', 'TaqI']`**, complete the for loop that prints each enzyme name on a separate line."
            ]
        },
        {
            "cell_type": "code",
            "execution_count": null,
            "metadata": {},
            "outputs": [],
            "source": [
                "# Create list of enzymes\n",
                "enzymes = ['EcoRI', 'HindIII', 'BamHI', 'TaqI']\n",
                "\n",
                "# Write your for loop here\n",
                "for enzyme in enzymes:\n",
                "    "
            ]
        },
        {
            "cell_type": "markdown",
            "metadata": {},
            "source": [
                "### 2. Printing each codon with a message\n",
                "\n",
                "Given a list **`codons = ['ATG', 'TGG', 'CTA', 'AAC', 'CCG']`**, complete the for loop that prints the statement \"Codon: element\" for each element in the list, replacing **`element`** with the actual codon."
            ]
        },
        {
            "cell_type": "code",
            "execution_count": null,
            "metadata": {},
            "outputs": [],
            "source": [
                "# Create list of codons\n",
                "codons = ['ATG', 'TGG', 'CTA', 'AAC', 'CCG']\n",
                "\n",
                "# Write your for loop here\n",
                "for codon in codons:\n",
                "\tprint()"
            ]
        },
        {
            "cell_type": "markdown",
            "metadata": {},
            "source": [
                "### 3. Converting Celsius to Fahrenheit\n",
                "\n",
                "Consider the list **`temperatures = [37, 22, 300, 20]`**, which represents temperatures in Celsius. Complete the for loop to convert each temperature to Fahrenheit and print it. The formula to convert Celsius to Fahrenheit is **`(Celsius * 9/5) + 32`**."
            ]
        },
        {
            "cell_type": "code",
            "execution_count": null,
            "metadata": {},
            "outputs": [],
            "source": [
                "# Create list of temperatures in Celsius\n",
                "temperatures = [37, 22, 300, 20]\n",
                "\n",
                "# Write your for loop here\n",
                "for temperature in temperatures:\n",
                "\tFahrenheit = \n",
                "\tprint()"
            ]
        },
        {
            "cell_type": "markdown",
            "metadata": {},
            "source": [
                "### 4. Printing out reads\n",
                "\n",
                "Let's say we have a list of counts **`reads = [23, 56, 78, 12, 99]`** which represents the number of reads for different genes. Write a for loop that prints out each count with the word 'reads' after it (e.g., \"23 reads\")."
            ]
        },
        {
            "cell_type": "code",
            "execution_count": null,
            "metadata": {},
            "outputs": [],
            "source": [
                "# Create list of counts\n",
                "reads = [23, 56, 78, 12, 99]\n",
                "\n",
                "# Write your for loop here\n"
            ]
        },
        {
            "cell_type": "markdown",
            "metadata": {},
            "source": [
                "### 5. Printing square numbers and their roots\n",
                "\n",
                "We have a list of the first 10 square numbers **`squares = [1, 4, 9, 16, 25, 36, 49, 64, 81, 100]`**. Write a for loop that prints each square number. Then, use a separate for loop to print each square number alongside its square root. You can calculate the square root of a number **`x`** by doing **`x ** 0.5`**."
            ]
        },
        {
            "cell_type": "code",
            "execution_count": null,
            "metadata": {},
            "outputs": [],
            "source": [
                "# Create list of squares\n",
                "squares = [1, 4, 9, 16, 25, 36, 49, 64, 81, 100]\n",
                "\n",
                "# Write your first for loop here\n",
                "\n",
                "# Write your second for loop here\n"
            ]
        }
    ],
    "metadata": {
        "kernelspec": {
            "display_name": "base",
            "language": "python",
            "name": "python3"
        },
        "language_info": {
            "codemirror_mode": {
                "name": "ipython",
                "version": 3
            },
            "file_extension": ".py",
            "mimetype": "text/x-python",
            "name": "python",
            "nbconvert_exporter": "python",
            "pygments_lexer": "ipython3",
            "version": "3.11.5"
        }
    },
    "nbformat": 4,
    "nbformat_minor": 5
}
