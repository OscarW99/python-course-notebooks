{
    "cells": [
        {
            "cell_type": "markdown",
            "metadata": {},
            "source": [
                "<div style=\"width:100%; background-color:#226c61; color:white; padding:10px; text-align:center; font-size:20px;\">\n",
                "    <strong>Chapter 2: Conditional Statements and Loops</strong>\n",
                "</div>\n"
            ]
        },
        {
            "cell_type": "markdown",
            "id": "1cbdd2b3",
            "metadata": {},
            "source": [
                "<div style=\"text-align:center; font-size:28px; font-weight:bold;\">\n",
                "    Controlling Loop Execution with `break`, `continue`, and `pass`\n",
                "</div>"
            ]
        },
        {
            "cell_type": "markdown",
            "id": "fe8c1e73",
            "metadata": {},
            "source": [
                "### 1. Stop codon detection\n",
                "\n",
                "Given a list of codons **`codons = ['AUG', 'UUC', 'UAA', 'AUG', 'GGG']`**, write a for loop with a **`break`** statement that iterates through the list and prints the codon but stops the loop when it encounters the first stop codon (UAA)."
            ]
        },
        {
            "cell_type": "code",
            "execution_count": null,
            "id": "1ad78e0b",
            "metadata": {},
            "outputs": [],
            "source": [
                "codons = ['AUG', 'UUC', 'UAA', 'AUG', 'GGG']\n",
                "\n",
                "# Write your for loop with a break statement here\n"
            ]
        },
        {
            "cell_type": "markdown",
            "id": "b955e55e",
            "metadata": {},
            "source": [
                "### 2. Temperature check in enzyme assay\n",
                "\n",
                "You have a list of temperatures recorded every hour during an enzyme assay **`hourly_temperatures = [37, 42, 47, 35, 39]`**. Write a for loop with a **`continue`** statement that skips any temperature readings above 45 degrees Celsius, as they are considered inaccurate for the assay. The loop should print all other temperatures."
            ]
        },
        {
            "cell_type": "code",
            "execution_count": null,
            "id": "4904590c",
            "metadata": {},
            "outputs": [],
            "source": [
                "hourly_temperatures = [37, 42, 47, 35, 39]\n",
                "\n",
                "# Write your for loop with a continue statement here\n"
            ]
        },
        {
            "cell_type": "markdown",
            "id": "2d269361",
            "metadata": {},
            "source": [
                "### 3. Protein sequence evaluation\n",
                "\n",
                "Assume a list **`protein_sequences = ['MVLST', 'KLNV', 'MGIQK', 'VG']`** where each sequence represents a protein. Write a for loop that prints \"Sequence doesn’t contain M\" for any sequence that doesn’t contain the amino acid ‘M’. Use a **`pass`** statement to act as a placeholder when you encounter a sequence that does contain ‘M’."
            ]
        },
        {
            "cell_type": "code",
            "execution_count": null,
            "id": "0148ee27",
            "metadata": {},
            "outputs": [],
            "source": [
                "protein_sequences = ['MVLST', 'KLNV', 'MGIQK', 'VG']\n",
                "\n",
                "# Write your for loop with a pass statement here\n"
            ]
        }
    ],
    "metadata": {
        "kernelspec": {
            "display_name": "base",
            "language": "python",
            "name": "python3"
        },
        "language_info": {
            "codemirror_mode": {
                "name": "ipython",
                "version": 3
            },
            "file_extension": ".py",
            "mimetype": "text/x-python",
            "name": "python",
            "nbconvert_exporter": "python",
            "pygments_lexer": "ipython3",
            "version": "3.11.5"
        }
    },
    "nbformat": 4,
    "nbformat_minor": 5
}
