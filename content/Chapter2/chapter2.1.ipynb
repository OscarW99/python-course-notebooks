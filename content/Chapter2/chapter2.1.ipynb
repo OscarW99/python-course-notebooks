{
    "cells": [
        {
            "cell_type": "markdown",
            "id": "0685b750",
            "metadata": {},
            "source": [
                "<div style=\"width:100%; background-color:#226c61; color:white; padding:10px; text-align:center; font-size:20px;\">\n",
                "    <strong>Chapter 2: Conditional Statements and Loops</strong>\n",
                "</div>\n"
            ]
        },
        {
            "cell_type": "markdown",
            "id": "1a8f4882",
            "metadata": {},
            "source": [
                "<div style=\"text-align:center; font-size:28px; font-weight:bold;\">\n",
                "    Understanding If Statements\n",
                "</div>"
            ]
        },
        {
            "cell_type": "markdown",
            "id": "fdaf7e34",
            "metadata": {},
            "source": [
                "### 1. Checking protein length\n",
                "\n",
                "You have a variable **`protein_length`** representing the number of amino acids in a protein. Finish the if statement that prints \"Protein meets minimum length requirement.\" if **`protein_length`** is greater than or equal to 50."
            ]
        },
        {
            "cell_type": "code",
            "execution_count": null,
            "id": "a6f7834f",
            "metadata": {},
            "outputs": [],
            "source": [
                "# 1. Checking protein length\n",
                "protein_length = 75\n",
                "# Finish if statement here\n",
                "if protein_length >= :\n",
                "    print('Protein meets minimum length requirement.')"
            ]
        },
        {
            "cell_type": "markdown",
            "id": "da00ea96",
            "metadata": {},
            "source": [
                "### 2. Identifying start codon\n",
                "\n",
                "Create a variable **`codon`** that represents a DNA codon. Write an if statement that checks if the codon is \"ATG\" and prints \"Start codon identified.\""
            ]
        },
        {
            "cell_type": "code",
            "execution_count": null,
            "id": "d440f320",
            "metadata": {},
            "outputs": [],
            "source": [
                "# 2. Identifying start codon\n",
                "codon = \n",
                "# Finish if statement here\n",
                "if codon == 'ATG':\n",
                "    "
            ]
        },
        {
            "cell_type": "markdown",
            "id": "96f366c5",
            "metadata": {},
            "source": [
                "### 3. Evaluating GC-content\n",
                "\n",
                "Assume you have a variable **`gc_content`** that holds the GC-content percentage of a DNA sequence. Write an if statement that prints \"High GC content\" if **`gc_content`** is greater than 60%."
            ]
        },
        {
            "cell_type": "code",
            "execution_count": null,
            "id": "9ed636bd",
            "metadata": {},
            "outputs": [],
            "source": [
                "# 3. Evaluating GC-content\n",
                "gc_content = 80\n",
                "# Finish if statement here\n",
                "if :\n",
                "    print()"
            ]
        },
        {
            "cell_type": "markdown",
            "id": "bec7219b",
            "metadata": {},
            "source": [
                "### 4. Temperature range check for DNA denaturation\n",
                "\n",
                "Given a variable **`temp_celsius`** representing temperature in Celsius, write an if statement that prints \"Temperature is within the range for DNA denaturation.\" if the temperature is between 90 and 95 degrees inclusive."
            ]
        },
        {
            "cell_type": "code",
            "execution_count": null,
            "id": "1455e9f5",
            "metadata": {},
            "outputs": [],
            "source": [
                "# 4. Temperature range check for DNA denaturation\n",
                "temp_celsius = 91\n",
                "# Write your if statement here\n"
            ]
        }
    ],
    "metadata": {
        "kernelspec": {
            "display_name": "base",
            "language": "python",
            "name": "python3"
        },
        "language_info": {
            "codemirror_mode": {
                "name": "ipython",
                "version": 3
            },
            "file_extension": ".py",
            "mimetype": "text/x-python",
            "name": "python",
            "nbconvert_exporter": "python",
            "pygments_lexer": "ipython3",
            "version": "3.11.5"
        }
    },
    "nbformat": 4,
    "nbformat_minor": 5
}
