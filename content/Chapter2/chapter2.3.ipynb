{
    "cells": [
        {
            "cell_type": "markdown",
            "metadata": {},
            "source": [
                "<div style=\"width:100%; background-color:#226c61; color:white; padding:10px; text-align:center; font-size:20px;\">\n",
                "    <strong>Chapter 2: Conditional Statements and Loops</strong>\n",
                "</div>\n"
            ]
        },
        {
            "cell_type": "markdown",
            "metadata": {},
            "source": [
                "<div style=\"text-align:center; font-size:28px; font-weight:bold;\">\n",
                "    if-elif-else Statements\n",
                "</div>"
            ]
        },
        {
            "cell_type": "markdown",
            "metadata": {},
            "source": [
                "### 1. Sequence type\n",
                "\n",
                "Given a variable **`sequence`** that can contain the strings 'DNA', 'RNA', or 'protein', modify the  if-elif statement to accurately identify and print out the type of sequence."
            ]
        },
        {
            "cell_type": "code",
            "execution_count": null,
            "metadata": {},
            "outputs": [],
            "source": [
                "# Sequence type\n",
                "sequence = 'protein'\n",
                "\n",
                "if condition1:\n",
                "\tprint('This is a DNA sequence')\n",
                "elif condition2:\n",
                "\tprint('This is a RNA sequence')\n",
                "elif condition3:\n",
                "\tprint('This is a protein sequence')"
            ]
        },
        {
            "cell_type": "markdown",
            "metadata": {},
            "source": [
                "### 2. Promoter Strength Classification\n",
                "\n",
                "A researcher is studying the regulation of gene expression and has a variable **`promoter_strength`** that represents the binding affinity of a transcription factor to a promoter sequence. The value of **`promoter_strength`** is between 0 and 1. Write an if-elif-else statement that categorizes the promoter as \"Weak\" (0 - 0.3), \"Moderate\" (0.3 - 0.7), or \"Strong\" (0.7 - 1) and prints this out."
            ]
        },
        {
            "cell_type": "code",
            "execution_count": null,
            "metadata": {},
            "outputs": [],
            "source": [
                "# Promoter Strength Classification\n",
                "promoter_strength = 0.5\n",
                "\n",
                "# Write your if-elif-else statement here\n"
            ]
        },
        {
            "cell_type": "markdown",
            "metadata": {},
            "source": [
                "### 3. Codon Type\n",
                "\n",
                "A variable **`codon`** represents a three-letter sequence of DNA. Write an if-elif-else block that prints \"Start codon\" if the codon is \"ATG\", \"Stop codon\" if the codon is one of \"TAA\", \"TAG\", or \"TGA\", and \"Coding codon\" for any other sequence."
            ]
        },
        {
            "cell_type": "code",
            "execution_count": null,
            "metadata": {},
            "outputs": [],
            "source": [
                "# Condon Type\n",
                "codon = \n",
                "\n",
                "# Write your if-elif-else statement here\n"
            ]
        }
    ],
    "metadata": {
        "kernelspec": {
            "display_name": "base",
            "language": "python",
            "name": "python3"
        },
        "language_info": {
            "codemirror_mode": {
                "name": "ipython",
                "version": 3
            },
            "file_extension": ".py",
            "mimetype": "text/x-python",
            "name": "python",
            "nbconvert_exporter": "python",
            "pygments_lexer": "ipython3",
            "version": "3.11.5"
        }
    },
    "nbformat": 4,
    "nbformat_minor": 5
}
