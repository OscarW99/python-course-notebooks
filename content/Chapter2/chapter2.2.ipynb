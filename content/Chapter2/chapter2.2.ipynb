{
    "cells": [
        {
            "cell_type": "markdown",
            "metadata": {},
            "source": [
                "<div style=\"width:100%; background-color:#226c61; color:white; padding:10px; text-align:center; font-size:20px;\">\n",
                "    <strong>Chapter 2: Conditional Statements and Loops</strong>\n",
                "</div>\n"
            ]
        },
        {
            "cell_type": "markdown",
            "metadata": {},
            "source": [
                "<div style=\"text-align:center; font-size:28px; font-weight:bold;\">\n",
                "    if-else Statements\n",
                "</div>"
            ]
        },
        {
            "cell_type": "markdown",
            "metadata": {},
            "source": [
                "### 1. Temperature check\n",
                "\n",
                "A variable **`temperature`** has been set to 37. Modify the if-else statement so if **`temperature`** is greater than 38, \"High fever detected!\" is printed, otherwise \"Temperature is normal.\" is printed."
            ]
        },
        {
            "cell_type": "code",
            "execution_count": null,
            "metadata": {},
            "outputs": [],
            "source": [
                "# 1. Temperature check\n",
                "temperature = 37\n",
                "\n",
                "if temperature < 38:\n",
                "    print('Temperature is low')\n",
                "else:\n",
                "    print('Temperature is normal.')"
            ]
        },
        {
            "cell_type": "markdown",
            "metadata": {},
            "source": [
                "### 2. Nucleotide detection\n",
                "\n",
                "Create a variable **`nucleotide`** and assign it a random character from 'A', 'T', 'C', 'G'. Write an if-else statement that prints \"Purine base detected\" if the nucleotide is 'A' or 'G', and \"Pyrimidine base detected\" if the nucleotide is 'T' or 'C'."
            ]
        },
        {
            "cell_type": "code",
            "execution_count": null,
            "metadata": {},
            "outputs": [],
            "source": [
                "# 2. Nucleotide detection\n",
                "nucleotide = \n",
                "# Write your if-else statement here\n",
                "if nucleotide in ['A', 'G']:\n",
                "    print('')\n",
                "else:\n",
                "    print('')"
            ]
        },
        {
            "cell_type": "markdown",
            "metadata": {},
            "source": [
                "### 3. Protein content\n",
                "\n",
                "Set a variable **`protein_content`** to a percentage (e.g., 0.2 for 20%). If **`protein_content`** is greater than or equal to 0.15, print \"High protein content.\", else print \"Protein content is within the normal range.\""
            ]
        },
        {
            "cell_type": "code",
            "execution_count": null,
            "metadata": {},
            "outputs": [],
            "source": [
                "# 3. Protein content\n",
                "protein_content = \n",
                "# Write your if-else statement here\n"
            ]
        }
    ],
    "metadata": {
        "kernelspec": {
            "display_name": "base",
            "language": "python",
            "name": "python3"
        },
        "language_info": {
            "codemirror_mode": {
                "name": "ipython",
                "version": 3
            },
            "file_extension": ".py",
            "mimetype": "text/x-python",
            "name": "python",
            "nbconvert_exporter": "python",
            "pygments_lexer": "ipython3",
            "version": "3.11.5"
        }
    },
    "nbformat": 4,
    "nbformat_minor": 5
}
