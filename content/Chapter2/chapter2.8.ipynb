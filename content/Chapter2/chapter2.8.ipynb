{
    "cells": [
        {
            "cell_type": "markdown",
            "metadata": {},
            "source": [
                "<div style=\"width:100%; background-color:#226c61; color:white; padding:10px; text-align:center; font-size:20px;\">\n",
                "    <strong>Chapter 2: Conditional Statements and Loops</strong>\n",
                "</div>\n"
            ]
        },
        {
            "cell_type": "markdown",
            "metadata": {},
            "source": [
                "<div style=\"text-align:center; font-size:28px; font-weight:bold;\">\n",
                "    Combining For Loops and Conditional Statements\n",
                "</div>"
            ]
        },
        {
            "cell_type": "markdown",
            "metadata": {},
            "source": [
                "### 1. Counting 'T' bases\n",
                "\n",
                "Given a list **`bases = ['A', 'C', 'G', 'T', 'A', 'G', 'C', 'T']`**, write a for loop with an if statement that counts how many times 'T' appears in the list and prints out the count after the loop."
            ]
        },
        {
            "cell_type": "code",
            "execution_count": null,
            "metadata": {},
            "outputs": [],
            "source": [
                "bases = ['A', 'C', 'G', 'T', 'A', 'G', 'C', 'T']\n",
                "\n",
                "# Initialize the counter to 0\n",
                "T_count = 0\n",
                "\n",
                "# Write your for loop with an if statement here\n",
                "\n",
                "\n",
                "# Print counter\n",
                "print(T_count)"
            ]
        },
        {
            "cell_type": "markdown",
            "metadata": {},
            "source": [
                "### 2. Fever detection\n",
                "\n",
                "Create a list **`temperatures = [37, 39, 38, 36, 37]`**. Write a for loop with an if-else statement that prints 'Fever detected!' if any temperature is above 37, otherwise prints 'No fever.'."
            ]
        },
        {
            "cell_type": "code",
            "execution_count": null,
            "metadata": {},
            "outputs": [],
            "source": [
                "temperatures = [37, 39, 38, 36, 37]\n",
                "\n",
                "# Write your for loop with an if-else statement here\n"
            ]
        },
        {
            "cell_type": "markdown",
            "metadata": {},
            "source": [
                "### 3. Start codon detection\n",
                "\n",
                "You have a list of nucleotide sequences **`sequences = ['ATG', 'CGT', 'TTA', 'ACG', 'GCT']`**. Write a for loop with an if-else statement that prints 'Start codon detected' if the sequence is 'ATG', otherwise it prints the sequence followed by ' is not a start codon'."
            ]
        },
        {
            "cell_type": "code",
            "execution_count": null,
            "metadata": {},
            "outputs": [],
            "source": [
                "sequences = ['ATG', 'CGT', 'TTA', 'ACG', 'GCT']\n",
                "\n",
                "# Write your for loop with an if-else statement here\n"
            ]
        }
    ],
    "metadata": {
        "kernelspec": {
            "display_name": "base",
            "language": "python",
            "name": "python3"
        },
        "language_info": {
            "codemirror_mode": {
                "name": "ipython",
                "version": 3
            },
            "file_extension": ".py",
            "mimetype": "text/x-python",
            "name": "python",
            "nbconvert_exporter": "python",
            "pygments_lexer": "ipython3",
            "version": "3.11.5"
        }
    },
    "nbformat": 4,
    "nbformat_minor": 5
}
