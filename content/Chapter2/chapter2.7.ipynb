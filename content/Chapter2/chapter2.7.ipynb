{
    "cells": [
        {
            "cell_type": "markdown",
            "metadata": {},
            "source": [
                "<div style=\"width:100%; background-color:#226c61; color:white; padding:10px; text-align:center; font-size:20px;\">\n",
                "    <strong>Chapter 2: Conditional Statements and Loops</strong>\n",
                "</div>\n"
            ]
        },
        {
            "cell_type": "markdown",
            "metadata": {},
            "source": [
                "<div style=\"text-align:center; font-size:28px; font-weight:bold;\">\n",
                "    While Loops\n",
                "</div>"
            ]
        },
        {
            "cell_type": "markdown",
            "metadata": {},
            "source": [
                "### 1. Incrementing `x` by 1 until it equals 12\n",
                "\n",
                "Create a while loop that initializes a variable **`x`** with the value 0 and then increments **`x`** by 1 in each iteration. The loop should run as long as **`x`** is less than or equal to 12, and it should print the value of **`x`** during each iteration."
            ]
        },
        {
            "cell_type": "code",
            "execution_count": null,
            "metadata": {},
            "outputs": [],
            "source": [
                "x = 0\n",
                "\n",
                "# Write your while loop here\n"
            ]
        },
        {
            "cell_type": "markdown",
            "metadata": {},
            "source": [
                "### 2. Decreasing substrate concentration by 5%\n",
                "\n",
                "Write a while loop that starts with a **`substrate_concentration`** of 10.0 and decreases the concentration by 5% in each iteration. The loop should continue running until the **`substrate_concentration`** falls below 1.0 and print the concentration in each iteration."
            ]
        },
        {
            "cell_type": "code",
            "execution_count": null,
            "metadata": {},
            "outputs": [],
            "source": [
                "substrate_concentration = 10.0\n",
                "\n",
                "# Write your while loop here\n"
            ]
        },
        {
            "cell_type": "markdown",
            "metadata": {},
            "source": [
                "### 3. Printing the cube of `num` from 1 to 10\n",
                "\n",
                "Write a while loop that initializes a variable **`num`** with the value 1 and prints the cube of **`num`** (i.e., **`num`** raised to the power of 3). The loop should increment **`num`** by 1 in each iteration and stop when **`num`** is greater than 10."
            ]
        },
        {
            "cell_type": "code",
            "execution_count": null,
            "metadata": {},
            "outputs": [],
            "source": [
                "num = 1\n",
                "\n",
                "# Write your while loop here\n"
            ]
        },
        {
            "cell_type": "markdown",
            "metadata": {},
            "source": [
                "### 4. Monitoring reaction temperature\n",
                "\n",
                "Imagine you are writing a script to continuously monitor the temperature of a reaction. Write a while loop that starts with a **`temperature`** variable at 100 degrees. In each iteration, if the **`temperature`** is greater than 20 degrees, it should print 'Reaction ongoing' and decrease the **`temperature`** by 10 degrees. If the **`temperature`** reaches 20 degrees or below, it should stop. Print 'Reaction complete' once the while loop has stopped."
            ]
        },
        {
            "cell_type": "code",
            "execution_count": null,
            "metadata": {},
            "outputs": [],
            "source": [
                "temperature = 100\n",
                "\n",
                "# Write your while loop here\n"
            ]
        }
    ],
    "metadata": {
        "kernelspec": {
            "display_name": "base",
            "language": "python",
            "name": "python3"
        },
        "language_info": {
            "codemirror_mode": {
                "name": "ipython",
                "version": 3
            },
            "file_extension": ".py",
            "mimetype": "text/x-python",
            "name": "python",
            "nbconvert_exporter": "python",
            "pygments_lexer": "ipython3",
            "version": "3.11.5"
        }
    },
    "nbformat": 4,
    "nbformat_minor": 5
}
