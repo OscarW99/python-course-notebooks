{
    "cells": [
        {
            "cell_type": "markdown",
            "metadata": {},
            "source": [
                "<div style=\"width:100%; background-color:#226c61; color:white; padding:10px; text-align:center; font-size:20px;\">\n",
                "    <strong>Chapter 2: Conditional Statements and Loops</strong>\n",
                "</div>\n"
            ]
        },
        {
            "cell_type": "markdown",
            "metadata": {},
            "source": [
                "<div style=\"text-align:center; font-size:28px; font-weight:bold;\">\n",
                "    Nested Loops\n",
                "</div>"
            ]
        },
        {
            "cell_type": "markdown",
            "metadata": {},
            "source": [
                "### 1. Nucleotides in sequences\n",
                "\n",
                "You have a list of DNA sequences **`sequences = ['ATCG', 'CGAT', 'TTCA']`**. Write a nested loop to print each nucleotide in each sequence."
            ]
        },
        {
            "cell_type": "code",
            "execution_count": null,
            "metadata": {},
            "outputs": [],
            "source": [
                "sequences = ['ATCG', 'CGAT', 'TTCA']\n",
                "\n",
                "# Write your nested loop here\n"
            ]
        },
        {
            "cell_type": "markdown",
            "metadata": {},
            "source": [
                "### 2. Experimental condition combinations\n",
                "\n",
                "Given three lists **`temperatures = [37, 40, 43]`**, **`doses = [10, 20, 30]`**, and **`drugs = ['DrugA', 'DrugB', 'DrugC']`**, write nested loops that print all combinations of one temperature, one dose, and one drug."
            ]
        },
        {
            "cell_type": "code",
            "execution_count": null,
            "metadata": {},
            "outputs": [],
            "source": [
                "temperatures = [37, 40, 43]\n",
                "doses = [10, 20, 30]\n",
                "drugs = ['DrugA', 'DrugB', 'DrugC']\n",
                "\n",
                "# Write your nested loops here\n"
            ]
        },
        {
            "cell_type": "markdown",
            "metadata": {},
            "source": [
                "### 3. Amino acid presence in proteins\n",
                "\n",
                "Create a nested loop structure with the lists **`amino_acids = ['M', 'Q', 'K']`** and **`proteins = ['MKQHFT', 'NVLIRY', 'LQKSM']`**. The loops should check and print if each amino acid is found in each protein sequence."
            ]
        },
        {
            "cell_type": "code",
            "execution_count": null,
            "metadata": {},
            "outputs": [],
            "source": [
                "amino_acids = ['M', 'Q', 'K']\n",
                "proteins = ['MKQHFT', 'NVLIRY', 'LQKSM']\n",
                "\n",
                "# Write your nested loop here\n"
            ]
        },
        {
            "cell_type": "markdown",
            "metadata": {},
            "source": [
                "### 4. Enzyme and buffer combinations\n",
                "\n",
                "Using two lists **`enzymes = ['EcoRI', 'HindIII', 'BamHI']`** and **`buffers = ['BufferA', 'BufferB', 'BufferC']`**, write nested loops to print every possible combination of enzyme and buffer."
            ]
        },
        {
            "cell_type": "code",
            "execution_count": null,
            "metadata": {},
            "outputs": [],
            "source": [
                "enzymes = ['EcoRI', 'HindIII', 'BamHI']\n",
                "buffers = ['BufferA', 'BufferB', 'BufferC']\n",
                "\n",
                "# Write your nested loop here\n"
            ]
        }
    ],
    "metadata": {
        "kernelspec": {
            "display_name": "base",
            "language": "python",
            "name": "python3"
        },
        "language_info": {
            "codemirror_mode": {
                "name": "ipython",
                "version": 3
            },
            "file_extension": ".py",
            "mimetype": "text/x-python",
            "name": "python",
            "nbconvert_exporter": "python",
            "pygments_lexer": "ipython3",
            "version": "3.11.5"
        }
    },
    "nbformat": 4,
    "nbformat_minor": 5
}
