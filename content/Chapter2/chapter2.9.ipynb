{
    "cells": [
        {
            "cell_type": "markdown",
            "metadata": {},
            "source": [
                "<div style=\"width:100%; background-color:#226c61; color:white; padding:10px; text-align:center; font-size:20px;\">\n",
                "    <strong>Chapter 2: Conditional Statements and Loops</strong>\n",
                "</div>\n"
            ]
        },
        {
            "cell_type": "markdown",
            "id": "dfda4466",
            "metadata": {},
            "source": [
                "<div style=\"text-align:center; font-size:28px; font-weight:bold;\">\n",
                "    Combining While Loops with Conditional Statements\n",
                "</div>"
            ]
        },
        {
            "cell_type": "markdown",
            "id": "38aa2082",
            "metadata": {},
            "source": [
                "### 1. Number classification\n",
                "\n",
                "Write a while loop that counts from 1 to 15 and prints each number. Inside the loop, use an if-else statement to print \"Even number\" if the number is even and \"Odd number\" if the number is odd."
            ]
        },
        {
            "cell_type": "code",
            "execution_count": null,
            "id": "97382bb2",
            "metadata": {},
            "outputs": [],
            "source": [
                "# Initialize your variables here\n",
                "count = 1\n",
                "max_count = 15\n",
                "\n",
                "# Write your while loop with an if-else statement here\n"
            ]
        },
        {
            "cell_type": "markdown",
            "id": "68eda776",
            "metadata": {},
            "source": [
                "### 2. Sum of even numbers\n",
                "\n",
                "Create a while loop that sums all the even numbers between 1 and 50. Print the sum after the loop completes."
            ]
        },
        {
            "cell_type": "code",
            "execution_count": null,
            "id": "13a4514b",
            "metadata": {},
            "outputs": [],
            "source": [
                "# Initialize your variables here\n",
                "number = 1\n",
                "sum_even = 0\n",
                "\n",
                "# Write your while loop here\n"
            ]
        },
        {
            "cell_type": "markdown",
            "id": "c3e70354",
            "metadata": {},
            "source": [
                "### 3. Finding square numbers\n",
                "\n",
                "You want to find all the square numbers between 1 and 200. Write a while loop that checks each number, and if it’s a square number, print it out."
            ]
        },
        {
            "cell_type": "code",
            "execution_count": null,
            "id": "3aeb10f8",
            "metadata": {},
            "outputs": [],
            "source": [
                "# Initialize your variables here\n",
                "number = 1\n",
                "\n",
                "# Write your while loop to find and print square numbers here\n"
            ]
        },
        {
            "cell_type": "markdown",
            "id": "2ebac16f",
            "metadata": {},
            "source": [
                "### 4. Countdown\n",
                "\n",
                "Write a while loop that starts at 10 and decrements to 0. Inside the loop, use a conditional statement to print \"Countdown: x\" where x is the current number."
            ]
        },
        {
            "cell_type": "code",
            "execution_count": null,
            "id": "13bc30c6",
            "metadata": {},
            "outputs": [],
            "source": [
                "# Initialize your variables here\n",
                "count = 10\n",
                "\n",
                "# Write your while loop with a conditional statement here\n"
            ]
        }
    ],
    "metadata": {
        "kernelspec": {
            "display_name": "base",
            "language": "python",
            "name": "python3"
        },
        "language_info": {
            "codemirror_mode": {
                "name": "ipython",
                "version": 3
            },
            "file_extension": ".py",
            "mimetype": "text/x-python",
            "name": "python",
            "nbconvert_exporter": "python",
            "pygments_lexer": "ipython3",
            "version": "3.11.5"
        }
    },
    "nbformat": 4,
    "nbformat_minor": 5
}
