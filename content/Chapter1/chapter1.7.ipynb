{
    "cells": [
        {
            "cell_type": "markdown",
            "metadata": {},
            "source": [
                "\n",
                "<div style=\"width:100%; background-color:#226c61; color:white; padding:10px; text-align:center; font-size:20px;\">\n",
                "    <strong>Chapter 1: Variables, Data Types, and Operators</strong>\n",
                "</div>\n"
            ]
        },
        {
            "cell_type": "markdown",
            "metadata": {},
            "source": [
                "<div style=\"text-align:center; font-size:28px; font-weight:bold;\">\n",
                "    Operations on Strings\n",
                "</div>"
            ]
        },
        {
            "cell_type": "markdown",
            "metadata": {},
            "source": [
                "<div style=\"font-size:16px;\">\n",
                "<details>\n",
                "  <summary>Click for a quick reminder of String Operations</summary>\n",
                "  <ul>\n",
                "    <li>Concatenation: Joining two strings together using the <code>+</code> operator.</li>\n",
                "    <li>Repetition: Repeating a string multiple times using the <code>*</code> operator.</li>\n",
                "    <li>Equality: Checking if two strings are the same using the <code>==</code> operator.</li>\n",
                "    <li>Lexicographical Comparison: Comparing strings based on alphabetical order.</li>\n",
                "  </ul>\n",
                "</details>\n",
                "</div>\n"
            ]
        },
        {
            "cell_type": "markdown",
            "metadata": {},
            "source": [
                "### 1. Assign values to string variables\n",
                "\n",
                "Create two string variables `strA` and `strB`, and assign them the values \"Bio\" and \"informatics\" respectively."
            ]
        },
        {
            "cell_type": "code",
            "execution_count": null,
            "metadata": {},
            "outputs": [],
            "source": [
                "# Assigning values to strA and strB\n",
                "strA = \n",
                "strB = \n"
            ]
        },
        {
            "cell_type": "markdown",
            "metadata": {},
            "source": [
                "### 2. Concatenate strings\n",
                "\n",
                "Concatenate `strA` and `strB`. Store the result in a variable called `str_combined`. Print the result."
            ]
        },
        {
            "cell_type": "code",
            "execution_count": null,
            "metadata": {},
            "outputs": [],
            "source": [
                "# Concatenate and print strA and strB\n",
                "str_combined = \n",
                "print(str_combined)"
            ]
        },
        {
            "cell_type": "markdown",
            "metadata": {},
            "source": [
                "### 3. Repeat a string\n",
                "\n",
                "Repeat `strA` three times. Store the result in a variable called `str_repeated`. Print the result."
            ]
        },
        {
            "cell_type": "code",
            "execution_count": null,
            "metadata": {},
            "outputs": [],
            "source": [
                "# Repeat and print strA three times\n",
                "str_repeated = \n",
                "print(str_repeated)"
            ]
        },
        {
            "cell_type": "markdown",
            "metadata": {},
            "source": [
                "### 4. Check for string equality\n",
                "\n",
                "Check if `strA` is equal to \"BioTech\". Store the result in a variable called `str_equality`. Print the result."
            ]
        },
        {
            "cell_type": "code",
            "execution_count": null,
            "metadata": {},
            "outputs": [],
            "source": [
                "# Check and print if strA is equal to \"BioTech\"\n",
                "str_equality = \n",
                "print(str_equality)"
            ]
        },
        {
            "cell_type": "markdown",
            "metadata": {},
            "source": [
                "### 5. Lexicographical comparison\n",
                "\n",
                "Compare `strA` and \"BIO\" lexicographically. If `strA` comes before \"BIO\", store `True` in a variable called `str_comparison`, else store `False`. Print the result."
            ]
        },
        {
            "cell_type": "code",
            "execution_count": null,
            "metadata": {},
            "outputs": [],
            "source": [
                "# Compare and print if strA comes before \"BIO\" lexicographically\n",
                "str_comparison = \n",
                "print(str_comparison)"
            ]
        }
    ],
    "metadata": {
        "kernelspec": {
            "display_name": "base",
            "language": "python",
            "name": "python3"
        },
        "language_info": {
            "codemirror_mode": {
                "name": "ipython",
                "version": 3
            },
            "file_extension": ".py",
            "mimetype": "text/x-python",
            "name": "python",
            "nbconvert_exporter": "python",
            "pygments_lexer": "ipython3",
            "version": "3.11.5"
        }
    },
    "nbformat": 4,
    "nbformat_minor": 5
}
