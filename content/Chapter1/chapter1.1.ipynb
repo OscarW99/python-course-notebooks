{
    "cells": [
        {
            "cell_type": "markdown",
            "id": "26d50e46",
            "metadata": {},
            "source": [
                "\n",
                "<div style=\"width:100%; background-color:#226c61; color:white; padding:10px; text-align:center; font-size:20px;\">\n",
                "    <strong>Chapter 1: Variables, Data Types, and Operators</strong>\n",
                "</div>\n"
            ]
        },
        {
            "cell_type": "markdown",
            "id": "4333ec4e",
            "metadata": {},
            "source": [
                "<div style=\"font-size:16px;\">\n",
                "<details>\n",
                "  <summary>Click for a 30-second video on how to write/run Code</summary>\n",
                "  [How to edit/run code in JupyterLite](#)\n",
                "</details>\n",
                "</div>\n"
            ]
        },
        {
            "cell_type": "markdown",
            "id": "e2e71561",
            "metadata": {},
            "source": [
                "\n",
                "<div style=\"text-align:center; font-size:28px; font-weight:bold;\">\n",
                "    Variables and Basic Print Statements\n",
                "</div>"
            ]
        },
        {
            "cell_type": "markdown",
            "id": "befb92e3",
            "metadata": {},
            "source": [
                "\n",
                "## 1. Replace placeholder in a string\n",
                "- Replace \"NAME\" with your actual name in the `greeting` variable, then print it.\n"
            ]
        },
        {
            "cell_type": "code",
            "execution_count": null,
            "id": "ac31545b",
            "metadata": {},
            "outputs": [],
            "source": [
                "greeting = 'NAME'\n",
                "print(greeting)"
            ]
        }
    ],
    "metadata": {
        "kernelspec": {
            "display_name": "Python 3",
            "language": "python",
            "name": "python3"
        }
    },
    "nbformat": 4,
    "nbformat_minor": 5
}
