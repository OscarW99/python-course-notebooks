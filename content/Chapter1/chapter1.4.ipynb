{
    "cells": [
        {
            "cell_type": "markdown",
            "metadata": {},
            "source": [
                "<div style=\"width:100%; background-color:#226c61; color:white; padding:10px; text-align:center; font-size:20px;\">\n",
                "    <strong>Chapter 1: Arithmetic Operators</strong>\n",
                "</div>"
            ]
        },
        {
            "cell_type": "markdown",
            "metadata": {},
            "source": [
                "<div style=\"text-align:center; font-size:28px; font-weight:bold;\">\n",
                "    Arithmetic Operators\n",
                "</div>"
            ]
        },
        {
            "cell_type": "markdown",
            "metadata": {},
            "source": [
                "### 1. Assign values to variables\n",
                "\n",
                "Create two variables `a` and `b`, and assign them the values 8 and 5 respectively."
            ]
        },
        {
            "cell_type": "code",
            "execution_count": null,
            "metadata": {},
            "outputs": [],
            "source": [
                "# Assigning values to a and b\n",
                "a = \n",
                "b = \n"
            ]
        },
        {
            "cell_type": "markdown",
            "metadata": {},
            "source": [
                "### 2. Calculate the sum\n",
                "\n",
                "Calculate the sum of `a` and `b` and store it in a new variable called `sum_ab`. Print the result."
            ]
        },
        {
            "cell_type": "code",
            "execution_count": null,
            "metadata": {},
            "outputs": [],
            "source": [
                "# Calculate and print sum of a and b\n",
                "sum_ab = \n",
                "print()"
            ]
        },
        {
            "cell_type": "markdown",
            "metadata": {},
            "source": [
                "### 3. Calculate the product\n",
                "\n",
                "Calculate the product of `a` and `b` and store it in a variable called `product_ab`. Print the result."
            ]
        },
        {
            "cell_type": "code",
            "execution_count": null,
            "metadata": {},
            "outputs": [],
            "source": [
                "# Calculate and print product of a and b\n",
                "product_ab = \n",
                "print()"
            ]
        },
        {
            "cell_type": "markdown",
            "metadata": {},
            "source": [
                "### 4. Calculate power\n",
                "\n",
                "Calculate the result of `a` raised to the power of `b` and store it in a variable called `power_ab`. Print the result."
            ]
        },
        {
            "cell_type": "code",
            "execution_count": null,
            "metadata": {},
            "outputs": [],
            "source": [
                "# Calculate and print a raised to the power of b\n",
                "power_ab = \n",
                "print()"
            ]
        },
        {
            "cell_type": "markdown",
            "metadata": {},
            "source": [
                "### 5. Modulus operation\n",
                "\n",
                "Determine the remainder when `a` is divided by `b` using the modulus operator and store it in a variable `remainder_ab`. Print the result."
            ]
        },
        {
            "cell_type": "code",
            "execution_count": null,
            "metadata": {},
            "outputs": [],
            "source": [
                "# Calculate and print the remainder when a is divided by b\n",
                "remainder_ab = \n",
                "print()"
            ]
        },
        {
            "cell_type": "markdown",
            "metadata": {},
            "source": [
                "### 6. Floor division\n",
                "\n",
                "Perform a floor division of `a` by `b` and store the result in a variable called `floor_div_ab`. Print the result."
            ]
        },
        {
            "cell_type": "code",
            "execution_count": null,
            "metadata": {},
            "outputs": [],
            "source": [
                "# Calculate and print the floor division result of a divided by b\n",
                "floor_div_ab = \n",
                "print()"
            ]
        }
    ],
    "metadata": {
        "kernelspec": {
            "display_name": "Python 3",
            "language": "python",
            "name": "python3"
        }
    },
    "nbformat": 4,
    "nbformat_minor": 5
}
