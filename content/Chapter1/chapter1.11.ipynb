{
    "cells": [
        {
            "cell_type": "markdown",
            "metadata": {},
            "source": [
                "<div style=\"width:100%; background-color:#226c61; color:white; padding:10px; text-align:center; font-size:20px;\">\n",
                "    <strong>Chapter 1: Variables, Data Types, and Operators</strong>\n",
                "</div>\n"
            ]
        },
        {
            "cell_type": "markdown",
            "metadata": {},
            "source": [
                "<div style=\"text-align:center; font-size:28px; font-weight:bold;\">\n",
                "    f-strings\n",
                "</div>"
            ]
        },
        {
            "cell_type": "markdown",
            "metadata": {},
            "source": [
                "### 1. Displaying a DNA sequence\n",
                "\n",
                "Create a variable **`dna_sequence`** and assign it the value \"AGTCACTAG\". Then, use an f-string to print: \"The DNA sequence is: AGTCACTAG\"."
            ]
        },
        {
            "cell_type": "code",
            "execution_count": null,
            "metadata": {},
            "outputs": [],
            "source": [
                "# 1. Displaying a DNA sequence\n",
                "dna_sequence = \n",
                "print(f'The DNA sequence is: {dna_sequence}')"
            ]
        },
        {
            "cell_type": "markdown",
            "metadata": {},
            "source": [
                "### 2. Organism name and genomic size\n",
                "\n",
                "A DNA sequence has 4500 codons. There are 3 bases per codon. Complete the f-string to print the total number of bases in the sequence."
            ]
        },
        {
            "cell_type": "code",
            "execution_count": null,
            "metadata": {},
            "outputs": [],
            "source": [
                "# 2. Organism name and genomic size\n",
                "number_of_codons = 4500\n",
                "bases_per_codon = 3\n",
                "print(f'The DNA sequence has {} bases.')"
            ]
        },
        {
            "cell_type": "markdown",
            "metadata": {},
            "source": [
                "### 3. Start and stop codons\n",
                "\n",
                "Given two variables, **`start_codon`** with value \"AUG\" and **`stop_codon`** with value \"UAA\", use an f-string to print: \"The translation initiates at AUG and terminates at UAA.\""
            ]
        },
        {
            "cell_type": "code",
            "execution_count": null,
            "metadata": {},
            "outputs": [],
            "source": [
                "# 3. Start and stop codons\n",
                "start_codon = \n",
                "stop_codon = \n",
                "print()"
            ]
        }
    ],
    "metadata": {
        "kernelspec": {
            "display_name": "base",
            "language": "python",
            "name": "python3"
        },
        "language_info": {
            "codemirror_mode": {
                "name": "ipython",
                "version": 3
            },
            "file_extension": ".py",
            "mimetype": "text/x-python",
            "name": "python",
            "nbconvert_exporter": "python",
            "pygments_lexer": "ipython3",
            "version": "3.11.5"
        }
    },
    "nbformat": 4,
    "nbformat_minor": 5
}
