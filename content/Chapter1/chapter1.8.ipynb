{
    "cells": [
        {
            "cell_type": "markdown",
            "metadata": {},
            "source": [
                "\n",
                "<div style=\"width:100%; background-color:#226c61; color:white; padding:10px; text-align:center; font-size:20px;\">\n",
                "    <strong>Chapter 1: Variables, Data Types, and Operators</strong>\n",
                "</div>\n"
            ]
        },
        {
            "cell_type": "markdown",
            "metadata": {},
            "source": [
                "<div style=\"text-align:center; font-size:28px; font-weight:bold;\">\n",
                "    Using `in` and `not in` with Strings\n",
                "</div>"
            ]
        },
        {
            "cell_type": "markdown",
            "metadata": {},
            "source": [
                "### 1. Check if the genome contains 'TATAT'\n",
                "\n",
                "Given the string `genome`, check if it contains the pattern 'TATAT'. Store the result in `contains_pattern` and print the result."
            ]
        },
        {
            "cell_type": "code",
            "execution_count": null,
            "metadata": {},
            "outputs": [],
            "source": [
                "# Provided genome string\n",
                "genome = \"ACTGATCGATTACGTATAGTATTTGCTATCATACATATATATCGATGCGTTCAT\"\n",
                "\n",
                "# Check and print if genome contains 'TATAT'\n",
                "contains_pattern = \n",
                "print(contains_pattern)"
            ]
        },
        {
            "cell_type": "markdown",
            "metadata": {},
            "source": [
                "### 2. Check if the genome doesn't contain 'GATGAT'\n",
                "\n",
                "Check if `genome` doesn't contain the pattern 'GATGAT'. Store the result in `absent_pattern` and print the result."
            ]
        },
        {
            "cell_type": "code",
            "execution_count": null,
            "metadata": {},
            "outputs": [],
            "source": [
                "# Check and print if genome doesn't contain 'GATGAT'\n",
                "absent_pattern = \n",
                "print(absent_pattern)"
            ]
        },
        {
            "cell_type": "markdown",
            "metadata": {},
            "source": [
                "### 3. Check if 'ATCG' is present in 'CGATCGTA'\n",
                "\n",
                "Check if the string 'ATCG' is present in 'CGATCGTA'. Store the result in `pattern_check` and print it."
            ]
        },
        {
            "cell_type": "code",
            "execution_count": null,
            "metadata": {},
            "outputs": [],
            "source": [
                "# Check and print if 'ATCG' is in 'CGATCGTA'\n",
                "pattern_check = \n",
                "print(pattern_check)"
            ]
        }
    ],
    "metadata": {
        "kernelspec": {
            "display_name": "base",
            "language": "python",
            "name": "python3"
        },
        "language_info": {
            "codemirror_mode": {
                "name": "ipython",
                "version": 3
            },
            "file_extension": ".py",
            "mimetype": "text/x-python",
            "name": "python",
            "nbconvert_exporter": "python",
            "pygments_lexer": "ipython3",
            "version": "3.11.5"
        }
    },
    "nbformat": 4,
    "nbformat_minor": 5
}