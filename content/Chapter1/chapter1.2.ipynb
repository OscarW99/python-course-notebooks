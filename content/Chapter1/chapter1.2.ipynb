{
 "cells": [
  {
   "cell_type": "markdown",
   "metadata": {},
   "source": [
    "\n",
    "<div style=\"width:100%; background-color:#226c61; color:white; padding:10px; text-align:center; font-size:20px;\">\n",
    "    <strong>Chapter 1: Variables, Data Types, and Operators</strong>\n",
    "</div>\n"
   ]
  },
  {
   "cell_type": "markdown",
   "metadata": {},
   "source": [
    "<div style=\"font-size:16px;\">\n",
    "<details>\n",
    "  <summary>Click for a 30-second video on how to write/run Code</summary>\n",
    "  [How to edit/run code in JupyterLite](#)\n",
    "</details>\n",
    "</div>\n"
   ]
  },
  {
   "cell_type": "markdown",
   "metadata": {},
   "source": [
    "\n",
    "<div style=\"text-align:center; font-size:28px; font-weight:bold;\">\n",
    "    Variables and Basic Print Statements\n",
    "</div>"
   ]
  },
  {
   "cell_type": "markdown",
   "metadata": {},
   "source": [
    "### Question 1\n",
    "my_dna is currently assigned to an empty string. Complete the following tasks.\n",
    "\n",
    "1. Assign the variable `my_dna` to the string \"AGTC\".\n",
    "2. Print out the value inside the variable `my_dna`.\n",
    "3. Print the type of the variable `my_dna`."
   ]
  },
  {
   "cell_type": "code",
   "execution_count": null,
   "metadata": {},
   "outputs": [],
   "source": [
    "# Set variable\n",
    "my_dna = \"\"\n",
    "\n",
    "# Print value of my_dna variable\n",
    "print()\n",
    "\n",
    "# Print the type of the my_dna variable\n",
    "print(type())"
   ]
  },
  {
   "cell_type": "markdown",
   "metadata": {},
   "source": [
    "### Question 2\n",
    "Assign the floating-point number 0.58 to a variable called gc_content and print it."
   ]
  },
  {
   "cell_type": "code",
   "execution_count": null,
   "metadata": {},
   "outputs": [],
   "source": [
    "gc_content = \n",
    "print(gc_content)"
   ]
  }
 ],
 "metadata": {
  "language_info": {
   "name": "python"
  }
 },
 "nbformat": 4,
 "nbformat_minor": 2
}
