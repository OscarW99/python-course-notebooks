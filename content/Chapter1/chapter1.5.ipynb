{
    "cells": [
        {
            "cell_type": "markdown",
            "metadata": {},
            "source": [
                "\n",
                "<div style=\"width:100%; background-color:#226c61; color:white; padding:10px; text-align:center; font-size:20px;\">\n",
                "    <strong>Chapter 1: Variables, Data Types, and Operators</strong>\n",
                "</div>\n"
            ]
        },
        {
            "cell_type": "markdown",
            "id": "5f3d4f2c",
            "metadata": {},
            "source": [
                "<div style=\"text-align:center; font-size:28px; font-weight:bold;\">\n",
                "    Comparison Operators\n",
                "</div>"
            ]
        },
        {
            "cell_type": "markdown",
            "id": "abf909a1",
            "metadata": {},
            "source": [
                "<div style=\"font-size:16px;\">\n",
                "<details>\n",
                "  <summary>Click for a quick reminder of Comparison Operators</summary>\n",
                "  <ul>\n",
                "    <li><code>==</code> : Equal to</li>\n",
                "    <li><code>!=</code> : Not equal to</li>\n",
                "    <li><code>></code> : Greater than</li>\n",
                "    <li><code><</code> : Less than</li>\n",
                "    <li><code>>=</code> : Greater than or equal to</li>\n",
                "    <li><code><=</code> : Less than or equal to</li>\n",
                "  </ul>\n",
                "</details>\n",
                "</div>\n"
            ]
        },
        {
            "cell_type": "markdown",
            "id": "a2a3e6b3",
            "metadata": {},
            "source": [
                "### 1. Assign values to variables\n",
                "\n",
                "Create two variables `x` and `y`, and assign them the values 15 and 20 respectively."
            ]
        },
        {
            "cell_type": "code",
            "execution_count": null,
            "id": "d1a5dbe4",
            "metadata": {},
            "outputs": [],
            "source": [
                "# Assigning values to x and y\n",
                "x = \n",
                "y = \n"
            ]
        },
        {
            "cell_type": "markdown",
            "id": "ba218db7",
            "metadata": {},
            "source": [
                "### 2. Check if x is equal to y\n",
                "\n",
                "Check if `x` is equal to `y` and store the result in a variable called `is_equal_xy`. Print the result."
            ]
        },
        {
            "cell_type": "code",
            "execution_count": null,
            "id": "dd55d285",
            "metadata": {},
            "outputs": [],
            "source": [
                "# Check and print if x is equal to y\n",
                "is_equal_xy = \n",
                "print()"
            ]
        },
        {
            "cell_type": "markdown",
            "id": "ea91dba9",
            "metadata": {},
            "source": [
                "### 3. Check if x is not equal to y\n",
                "\n",
                "Check if `x` is not equal to `y` and store the result in a variable called `is_not_equal_xy`. Print the result."
            ]
        },
        {
            "cell_type": "code",
            "execution_count": null,
            "id": "9c8adadd",
            "metadata": {},
            "outputs": [],
            "source": [
                "# Check and print if x is not equal to y\n",
                "is_not_equal_xy = \n",
                "print()"
            ]
        },
        {
            "cell_type": "markdown",
            "id": "7da246d7",
            "metadata": {},
            "source": [
                "### 4. Check if x is greater than y\n",
                "\n",
                "Check if `x` is greater than `y` and store the result in a variable called `is_greater_xy`. Print the result."
            ]
        },
        {
            "cell_type": "code",
            "execution_count": null,
            "id": "9e74ec34",
            "metadata": {},
            "outputs": [],
            "source": [
                "# Check and print if x is greater than y\n",
                "is_greater_xy = \n",
                "print()"
            ]
        },
        {
            "cell_type": "markdown",
            "id": "bb423ac9",
            "metadata": {},
            "source": [
                "### 5. Check if x is less than or equal to y\n",
                "\n",
                "Check if `x` is less than or equal to `y` and store the result in a variable called `is_less_equal_xy`. Print the result."
            ]
        },
        {
            "cell_type": "code",
            "execution_count": null,
            "id": "88d8f5a9",
            "metadata": {},
            "outputs": [],
            "source": [
                "# Check and print if x is less than or equal to y\n",
                "is_less_equal_xy = \n",
                "print()"
            ]
        },
        {
            "cell_type": "markdown",
            "id": "a0c5c50c",
            "metadata": {},
            "source": [
                "### 6. Complex check using arithmetic and comparison operators\n",
                "\n",
                "Check if the square of `x` is equal to `y` multiplied by 10. Store the result in a variable called `complex_check` and print the result."
            ]
        },
        {
            "cell_type": "code",
            "execution_count": null,
            "id": "8b9b8e23",
            "metadata": {},
            "outputs": [],
            "source": [
                "# Check and print if square of x equals y multiplied by 10\n",
                "complex_check = \n",
                "print()"
            ]
        }
    ],
    "metadata": {
        "kernelspec": {
            "display_name": "base",
            "language": "python",
            "name": "python3"
        },
        "language_info": {
            "codemirror_mode": {
                "name": "ipython",
                "version": 3
            },
            "file_extension": ".py",
            "mimetype": "text/x-python",
            "name": "python",
            "nbconvert_exporter": "python",
            "pygments_lexer": "ipython3",
            "version": "3.11.5"
        }
    },
    "nbformat": 4,
    "nbformat_minor": 5
}