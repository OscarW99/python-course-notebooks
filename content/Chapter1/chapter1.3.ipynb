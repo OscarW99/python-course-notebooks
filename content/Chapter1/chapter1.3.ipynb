{
  "cells": [
    {
      "cell_type": "markdown",
      "id": "26d50e46",
      "metadata": {},
      "source": [
        "\n",
        "<div style=\"width:100%; background-color:#226c61; color:white; padding:10px; text-align:center; font-size:20px;\">\n",
        "    <strong>Chapter 1: Variables, Data Types, and Operators</strong>\n",
        "</div>\n"
      ]
    },
    {
      "cell_type": "markdown",
      "id": "4333ec4e",
      "metadata": {},
      "source": [
        "<div style=\"font-size:16px;\">\n",
        "<details>\n",
        "  <summary>Click for a 30-second video on how to write/run Code</summary>\n",
        "  [How to edit/run code in JupyterLite](#)\n",
        "</details>\n",
        "</div>\n"
      ]
    },
    {
      "cell_type": "markdown",
      "id": "e2e71561",
      "metadata": {},
      "source": [
        "\n",
        "<div style=\"text-align:center; font-size:28px; font-weight:bold;\">\n",
        "    Overriding Variables\n",
        "</div>"
      ]
    },
    {
      "cell_type": "markdown",
      "id": "befb92e3",
      "metadata": {},
      "source": [
        "\n",
        "## Question 1\n",
        "1. Print the `seq_length` variable."
      ]
    },
    {
      "cell_type": "code",
      "execution_count": null,
      "id": "ac31545b",
      "metadata": {},
      "outputs": [],
      "source": [
        "# Initializing seq_length variable\n",
        "seq_length = 8\n",
        "\n",
        "# Print statement here"
      ]
    },
    {
      "cell_type": "markdown",
      "id": "70aca319",
      "metadata": {},
      "source": [
        "2. Update the seq_length variable to 10. Print the updated variable."
      ]
    },
    {
      "cell_type": "code",
      "execution_count": null,
      "id": "e32ff4a6",
      "metadata": {},
      "outputs": [],
      "source": [
        "# Override variable\n",
        "seq_length = \n",
        "\n",
        "# Print the updated variable\n",
        "print(seq_length)"
      ]
    }
  ],
  "metadata": {
    "kernelspec": {
      "display_name": "Python 3",
      "language": "python",
      "name": "python3"
    }
  },
  "nbformat": 4,
  "nbformat_minor": 5
}
