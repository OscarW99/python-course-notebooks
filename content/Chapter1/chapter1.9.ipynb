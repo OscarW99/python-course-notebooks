{
    "cells": [
        {
            "cell_type": "markdown",
            "metadata": {},
            "source": [
                "\n",
                "<div style=\"width:100%; background-color:#226c61; color:white; padding:10px; text-align:center; font-size:20px;\">\n",
                "    <strong>Chapter 1: Variables, Data Types, and Operators</strong>\n",
                "</div>\n"
            ]
        },
        {
            "cell_type": "markdown",
            "metadata": {},
            "source": [
                "<div style=\"text-align:center; font-size:28px; font-weight:bold;\">\n",
                "    Advanced Printing Techniques + Escape Sequences\n",
                "</div>"
            ]
        },
        {
            "cell_type": "markdown",
            "metadata": {},
            "source": [
                "### 1. Printing two variables together\n",
                "\n",
                "Create two variables, `gene` with the value \"BRCA1\" and `function` with the value \"tumor suppressor\". Print both variables in one print statement."
            ]
        },
        {
            "cell_type": "code",
            "execution_count": null,
            "metadata": {},
            "outputs": [],
            "source": [
                "# 1. Printing two variables together\n",
                "gene = \n",
                "function = \n",
                "print()"
            ]
        },
        {
            "cell_type": "markdown",
            "metadata": {},
            "source": [
                "### 2. Printing organism and gene together\n",
                "\n",
                "Create a string variable `organism` and assign it the value \"Homo sapiens\". Print the organism name followed by its gene (from the previous question) in one line."
            ]
        },
        {
            "cell_type": "code",
            "execution_count": null,
            "metadata": {},
            "outputs": [],
            "source": [
                "# 2. Printing organism and gene together\n",
                "organism = \n",
                "print()"
            ]
        },
        {
            "cell_type": "markdown",
            "metadata": {},
            "source": [
                "### 3. Using `sep` to print the strings DNA, RNA and Protein separated by `->`\n",
                "\n",
                "Use the `sep` parameter in a print statement to print \"DNA\", \"RNA\", and \"Protein\" separated by a \"->\"."
            ]
        },
        {
            "cell_type": "code",
            "execution_count": null,
            "metadata": {},
            "outputs": [],
            "source": [
                "# 3. Using sep to print the strings DNA, RNA and Protein separated by ->\n",
                "print()"
            ]
        },
        {
            "cell_type": "markdown",
            "metadata": {},
            "source": [
                "### 4. Printing age in a statement\n",
                "\n",
                "Store your age (as a number) in a variable called `age`. Print a statement saying \"I am [age] years old.\" using a single print statement."
            ]
        },
        {
            "cell_type": "code",
            "execution_count": null,
            "metadata": {},
            "outputs": [],
            "source": [
                "# 4. Printing age in a statement\n",
                "age = \n",
                "print()"
            ]
        },
        {
            "cell_type": "markdown",
            "metadata": {},
            "source": [
                "### 5. Printing gene and function on separate lines\n",
                "\n",
                "Print the values of `gene` and `function` on two separate lines using a single print statement and the `sep` parameter."
            ]
        },
        {
            "cell_type": "code",
            "execution_count": null,
            "metadata": {},
            "outputs": [],
            "source": [
                "# 5. Printing gene and function on separate lines\n",
                "print()"
            ]
        }
    ],
    "metadata": {
        "kernelspec": {
            "display_name": "base",
            "language": "python",
            "name": "python3"
        },
        "language_info": {
            "codemirror_mode": {
                "name": "ipython",
                "version": 3
            },
            "file_extension": ".py",
            "mimetype": "text/x-python",
            "name": "python",
            "nbconvert_exporter": "python",
            "pygments_lexer": "ipython3",
            "version": "3.11.5"
        }
    },
    "nbformat": 4,
    "nbformat_minor": 5
}