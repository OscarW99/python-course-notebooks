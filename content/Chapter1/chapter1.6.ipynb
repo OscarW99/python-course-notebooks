{
    "cells": [
        {
            "cell_type": "markdown",
            "metadata": {},
            "source": [
                "\n",
                "<div style=\"width:100%; background-color:#226c61; color:white; padding:10px; text-align:center; font-size:20px;\">\n",
                "    <strong>Chapter 1: Variables, Data Types, and Operators</strong>\n",
                "</div>\n"
            ]
        },
        {
            "cell_type": "markdown",
            "metadata": {},
            "source": [
                "<div style=\"text-align:center; font-size:28px; font-weight:bold;\">\n",
                "    Logical Operators\n",
                "</div>"
            ]
        },
        {
            "cell_type": "markdown",
            "metadata": {},
            "source": [
                "<div style=\"font-size:16px;\">\n",
                "<details>\n",
                "  <summary>Click for a quick reminder of Logical Operators</summary>\n",
                "  <ul>\n",
                "    <li><code>and</code> : Both conditions must be True</li>\n",
                "    <li><code>or</code> : At least one condition must be True</li>\n",
                "    <li><code>not</code> : Inverts the Boolean value</li>\n",
                "  </ul>\n",
                "</details>\n",
                "</div>\n"
            ]
        },
        {
            "cell_type": "markdown",
            "metadata": {},
            "source": [
                "### 1. Assign values to variables\n",
                "\n",
                "Create three variables `a`, `b`, and `c`, and assign them the values 7, 14, and 21 respectively."
            ]
        },
        {
            "cell_type": "code",
            "execution_count": null,
            "metadata": {},
            "outputs": [],
            "source": [
                "# Assigning values to a, b, and c\n",
                "a = \n",
                "b = \n",
                "c = \n"
            ]
        },
        {
            "cell_type": "markdown",
            "metadata": {},
            "source": [
                "### 2. Check if both conditions are True\n",
                "\n",
                "Check if `a` is less than `b` and `b` is less than `c`. Store the result in a variable called `both_true`. Print the result."
            ]
        },
        {
            "cell_type": "code",
            "execution_count": null,
            "metadata": {},
            "outputs": [],
            "source": [
                "# Check and print if a is less than b and b is less than c\n",
                "both_true = \n",
                "print(both_true)"
            ]
        },
        {
            "cell_type": "markdown",
            "metadata": {},
            "source": [
                "### 3. Check if either condition is True\n",
                "\n",
                "Check if `a` is greater than `c` or `a` is less than `b`. Store the result in a variable called `either_true`. Print the result."
            ]
        },
        {
            "cell_type": "code",
            "execution_count": null,
            "metadata": {},
            "outputs": [],
            "source": [
                "# Check and print if a is greater than c or a is less than b\n",
                "either_true = \n",
                "print(either_true)"
            ]
        },
        {
            "cell_type": "markdown",
            "metadata": {},
            "source": [
                "### 4. Invert truth value\n",
                "\n",
                "Invert the truth value of `b` being greater than `c` and store the result in a variable called `inverted_check`. Print the result."
            ]
        },
        {
            "cell_type": "code",
            "execution_count": null,
            "metadata": {},
            "outputs": [],
            "source": [
                "# Invert and print the truth value of b being greater than c\n",
                "inverted_check = \n",
                "print(inverted_check)"
            ]
        },
        {
            "cell_type": "markdown",
            "metadata": {},
            "source": [
                "### 5. Combine conditions\n",
                "\n",
                "Check if `c` minus `a` is equal to `b` or `b` multiplied by 2 is not equal to `a` plus `c`. Store the result in a variable called `combined_check`. Print the result."
            ]
        },
        {
            "cell_type": "code",
            "execution_count": null,
            "metadata": {},
            "outputs": [],
            "source": [
                "# Check and print if c minus a is equal to b or b multiplied by 2 is not equal to a plus c\n",
                "combined_check = \n",
                "print(combined_check)"
            ]
        }
    ],
    "metadata": {
        "kernelspec": {
            "display_name": "base",
            "language": "python",
            "name": "python3"
        },
        "language_info": {
            "codemirror_mode": {
                "name": "ipython",
                "version": 3
            },
            "file_extension": ".py",
            "mimetype": "text/x-python",
            "name": "python",
            "nbconvert_exporter": "python",
            "pygments_lexer": "ipython3",
            "version": "3.11.5"
        }
    },
    "nbformat": 4,
    "nbformat_minor": 5
}
